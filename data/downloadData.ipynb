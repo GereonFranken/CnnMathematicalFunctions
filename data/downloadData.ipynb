{
 "cells": [
  {
   "cell_type": "markdown",
   "metadata": {},
   "source": [
    "# Imports"
   ]
  },
  {
   "cell_type": "code",
   "execution_count": 1,
   "metadata": {},
   "outputs": [],
   "source": [
    "import boto3\n",
    "import matplotlib.image as mpimg\n",
    "import tempfile\n",
    "from pathlib import Path\n",
    "from PIL import Image"
   ]
  },
  {
   "cell_type": "markdown",
   "metadata": {},
   "source": [
    "# Set S3 Paths and import images"
   ]
  },
  {
   "cell_type": "code",
   "execution_count": 2,
   "metadata": {},
   "outputs": [],
   "source": [
    "def importImages():\n",
    "    bucket = 'sagemaker-studio-wkh25zg4lyb'\n",
    "    s3_bucket = boto3.resource('s3').Bucket(bucket)\n",
    "    Path('data/train/linear').mkdir(parents=True, exist_ok=True)\n",
    "    Path('data/train/squared').mkdir(parents=True, exist_ok=True)\n",
    "    Path('data/test/linear').mkdir(parents=True, exist_ok=True)\n",
    "    Path('data/test/squared').mkdir(parents=True, exist_ok=True)\n",
    "    Path('data/val/linear').mkdir(parents=True, exist_ok=True)\n",
    "    Path('data/val/squared').mkdir(parents=True, exist_ok=True)\n",
    "\n",
    "    for object_summary in s3_bucket.objects.filter():\n",
    "        img_object = s3_bucket.Object(object_summary.key)\n",
    "        tmp = tempfile.NamedTemporaryFile()\n",
    "        with open(tmp.name, 'wb') as f:\n",
    "            img_object.download_fileobj(f)\n",
    "            img = mpimg.imread(tmp.name)\n",
    "            pil_img = Image.fromarray(img)\n",
    "            pil_img.save('data/' + object_summary.key)"
   ]
  },
  {
   "cell_type": "code",
   "execution_count": 3,
   "metadata": {},
   "outputs": [],
   "source": [
    "def applyDataAugmentation(train_dir, rotation_degrees):\n",
    "    for path in Path(train_dir).rglob('*.PNG'):\n",
    "        if ('ipynb_checkpoints' not in str(path)):\n",
    "            old_img = Image.open(path)\n",
    "            new_img = Image.Image.rotate(old_img, rotation_degrees)\n",
    "            # Rotating mathematical funcions by 90 degrees causes them to be not mathematical functions anymore\n",
    "            # (one x value has 2 y values)\n",
    "            # since this CNN does not care about the actual function behind every image (yet),\n",
    "            # it is for the moment ok to do this augmentation to get more images\n",
    "            new_img.save(str(path).replace('.PNG', '') + '_augmented.PNG')"
   ]
  }
 ],
 "metadata": {
  "kernelspec": {
   "display_name": "conda_python3",
   "language": "python",
   "name": "conda_python3"
  },
  "language_info": {
   "codemirror_mode": {
    "name": "ipython",
    "version": 3
   },
   "file_extension": ".py",
   "mimetype": "text/x-python",
   "name": "python",
   "nbconvert_exporter": "python",
   "pygments_lexer": "ipython3",
   "version": "3.6.5"
  }
 },
 "nbformat": 4,
 "nbformat_minor": 4
}
