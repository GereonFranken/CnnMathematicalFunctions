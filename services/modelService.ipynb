{
 "cells": [
  {
   "cell_type": "code",
   "execution_count": null,
   "metadata": {},
   "outputs": [],
   "source": [
    "import numpy as np\n",
    "import os\n",
    "import random\n",
    "import tensorflow as tf"
   ]
  },
  {
   "cell_type": "code",
   "execution_count": 1,
   "metadata": {},
   "outputs": [],
   "source": [
    "import random\n",
    "import matplotlib.pyplot as plt\n",
    "import seaborn\n",
    "\n",
    "class modelService:\n",
    "    \n",
    "    minRange = -500\n",
    "    maxRange = 500\n",
    "    \n",
    "    def loadModel(self, model_path):\n",
    "        return tf.keras.models.load_model( model_path)\n",
    "    \n",
    "    def saveModel(self, model, model_path):\n",
    "        model.save(model_path)\n",
    "        \n",
    "    def get_random_test_images(self, test_dir, amount):\n",
    "        linear_images = []\n",
    "        squared_images = []\n",
    "        for i in range(amount):\n",
    "            random_linear_img = random.choice(os.listdir(test_dir + '/linear'))\n",
    "            linear_images.append(test_dir + '/linear/' + random_linear_img)\n",
    "            random_squared_img = random.choice(os.listdir(test_dir + '/squared'))\n",
    "            squared_images.append(test_dir + '/squared/' + random_squared_img)\n",
    "        test_images = linear_images + squared_images\n",
    "        np.random.shuffle(test_images)\n",
    "        return test_images\n",
    "    \n",
    "    def createRandomLinearFunctions(self, amount, folder):\n",
    "        seaborn.set(style='ticks')\n",
    "        for function in range(amount):\n",
    "            m = random.randint(self.minRange , self.maxRange)\n",
    "            b = random.randint(self.minRange , self.maxRange)\n",
    "            x = np.arange(start=self.minRange, stop=self.maxRange)\n",
    "            y = m*x + b\n",
    "            fig, ax = plt.subplots()\n",
    "            ax.plot(x, y)\n",
    "            ax.grid(True)\n",
    "            seaborn.despine(ax=ax, offset=0)\n",
    "            path = 'data/' + folder + '/linear/' + str(m) +'*x+' + str(b) + '.png'\n",
    "            if (not os.path.isfile(path)):\n",
    "                fig.savefig(path)\n",
    "            plt.close(fig)\n",
    "                \n",
    "    def createRandomSquaredFunctions(self, amount, folder):\n",
    "        seaborn.set(style='ticks')\n",
    "        for function in range(amount):\n",
    "            a = random.randint(self.minRange , self.maxRange)\n",
    "            b = random.randint(self.minRange , self.maxRange)\n",
    "            c = random.randint(self.minRange , self.maxRange)\n",
    "            x = np.arange(start=self.minRange, stop=self.maxRange)\n",
    "            y = a*x**2 + b*x + c\n",
    "            fig, ax = plt.subplots()\n",
    "            ax.plot(x, y)\n",
    "            ax.grid(True)\n",
    "            seaborn.despine(ax=ax, offset=0)\n",
    "            path = 'data/' + folder + '/squared/' + str(a) +'*x^2+' + str(b) + 'x' + str(c) + '.png'\n",
    "            if (not os.path.isfile(path)):\n",
    "                fig.savefig(path)\n",
    "            plt.close(fig)"
   ]
  }
 ],
 "metadata": {
  "kernelspec": {
   "display_name": "conda_python3",
   "language": "python",
   "name": "conda_python3"
  },
  "language_info": {
   "codemirror_mode": {
    "name": "ipython",
    "version": 3
   },
   "file_extension": ".py",
   "mimetype": "text/x-python",
   "name": "python",
   "nbconvert_exporter": "python",
   "pygments_lexer": "ipython3",
   "version": "3.6.10"
  }
 },
 "nbformat": 4,
 "nbformat_minor": 4
}
