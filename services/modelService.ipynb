{
 "cells": [
  {
   "cell_type": "code",
   "execution_count": 11,
   "metadata": {},
   "outputs": [],
   "source": [
    "import sys\n",
    "PACKAGE_PATH = '/home/ec2-user/anaconda3/envs/JupyterSystemEnv/lib/python3.6/site-packages'\n",
    "if not PACKAGE_PATH in sys.path:\n",
    "    sys.path.append(PACKAGE_PATH)\n",
    "import numpy as np\n",
    "import os\n",
    "import random\n",
    "import tensorflow as tf"
   ]
  },
  {
   "cell_type": "code",
   "execution_count": 12,
   "metadata": {},
   "outputs": [],
   "source": [
    "class modelService:\n",
    "    \n",
    "    def resetState(self):\n",
    "        tf.keras.backend.clear_session()\n",
    "    \n",
    "    def loadModel(self, model_path):\n",
    "        return keras.models.load_model(self, model_path)\n",
    "    \n",
    "    def saveModel(self, model, model_path):\n",
    "        model.save(model_path)\n",
    "        \n",
    "    def get_random_test_images(self, test_dir, amount):\n",
    "        linear_images = []\n",
    "        squared_images = []\n",
    "        for i in range(amount):\n",
    "            random_linear_img = random.choice(os.listdir(test_dir + '/linear'))\n",
    "            linear_images.append(test_dir + '/linear/' + random_linear_img)\n",
    "            random_squared_img = random.choice(os.listdir(test_dir + '/squared'))\n",
    "            squared_images.append(test_dir + '/squared/' + random_squared_img)\n",
    "        test_images = linear_images + squared_images\n",
    "        np.random.shuffle(test_images)\n",
    "        return test_images"
   ]
  }
 ],
 "metadata": {
  "kernelspec": {
   "display_name": "conda_python3",
   "language": "python",
   "name": "conda_python3"
  },
  "language_info": {
   "codemirror_mode": {
    "name": "ipython",
    "version": 3
   },
   "file_extension": ".py",
   "mimetype": "text/x-python",
   "name": "python",
   "nbconvert_exporter": "python",
   "pygments_lexer": "ipython3",
   "version": "3.6.5"
  }
 },
 "nbformat": 4,
 "nbformat_minor": 4
}
