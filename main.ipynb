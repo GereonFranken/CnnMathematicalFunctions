{
 "cells": [
  {
   "cell_type": "code",
   "execution_count": 1,
   "metadata": {},
   "outputs": [],
   "source": [
    "#import sys\n",
    "#PACKAGE_PATH = '/home/ec2-user/anaconda3/envs/JupyterSystemEnv/lib/python3.6/site-packages'\n",
    "#if not PACKAGE_PATH in sys.path:\n",
    "#    sys.path.append(PACKAGE_PATH)"
   ]
  },
  {
   "cell_type": "code",
   "execution_count": 2,
   "metadata": {
    "tags": [
     "main"
    ]
   },
   "outputs": [
    {
     "name": "stdout",
     "output_type": "stream",
     "text": [
      "importing Jupyter notebook from /home/ec2-user/SageMaker/CnnMathematicalFunctions/data/downloadData.ipynb\n",
      "importing Jupyter notebook from /home/ec2-user/SageMaker/CnnMathematicalFunctions/models/cnnModel.ipynb\n",
      "importing Jupyter notebook from /home/ec2-user/SageMaker/CnnMathematicalFunctions/services/modelService.ipynb\n"
     ]
    }
   ],
   "source": [
    "%load_ext tensorboard\n",
    "import import_ipynb\n",
    "import numpy as np\n",
    "import os\n",
    "from PIL import Image\n",
    "\n",
    "from data import downloadData as dd\n",
    "from models import cnnModel as cn\n",
    "from services import modelService"
   ]
  },
  {
   "cell_type": "code",
   "execution_count": 3,
   "metadata": {},
   "outputs": [],
   "source": [
    "class MathematicalFunctionsCNN:\n",
    "\n",
    "    train_dir = 'data/train'\n",
    "    test_dir = 'data/test'\n",
    "    val_dir = 'data/val'\n",
    "    model = ''\n",
    "    model_path = 'results/cnn.h5'\n",
    "\n",
    "    def __main__(self):\n",
    "        ms = modelService.modelService()\n",
    "        #if len(os.listdir('data')) < 4:\n",
    "        #    dd.importImages()\n",
    "        #    dd.applyDataAugmentation(self.train_dir, 90)\n",
    "        #if os.path.isfile(self.model_path):\n",
    "        #    self.model = ms.loadModel(self.model_path)\n",
    "        #    self.model.summary()\n",
    "        #else:     \n",
    "        #ms.createRandomLinearFunctions(50, 'test')\n",
    "        #ms.createRandomSquaredFunctions(50, 'test')\n",
    "        self.model = cn.create_Model()\n",
    "        self.model.summary()\n",
    "        collected_callbacks = cn.collect_callbacks()\n",
    "        cn.fit_model(self.model, self.train_dir, self.val_dir, collected_callbacks)\n",
    "        test_images = ms.get_random_test_images(self.test_dir, 3)\n",
    "        cn.predict_images(test_images, self.model)\n",
    "        ms.saveModel(self.model, self.model_path)"
   ]
  },
  {
   "cell_type": "code",
   "execution_count": null,
   "metadata": {
    "tags": [
     "main"
    ]
   },
   "outputs": [
    {
     "name": "stdout",
     "output_type": "stream",
     "text": [
      "Model: \"sequential_1\"\n",
      "_________________________________________________________________\n",
      "Layer (type)                 Output Shape              Param #   \n",
      "=================================================================\n",
      "conv2d_3 (Conv2D)            (None, 148, 148, 16)      448       \n",
      "_________________________________________________________________\n",
      "max_pooling2d_3 (MaxPooling2 (None, 74, 74, 16)        0         \n",
      "_________________________________________________________________\n",
      "conv2d_4 (Conv2D)            (None, 72, 72, 32)        4640      \n",
      "_________________________________________________________________\n",
      "max_pooling2d_4 (MaxPooling2 (None, 36, 36, 32)        0         \n",
      "_________________________________________________________________\n",
      "conv2d_5 (Conv2D)            (None, 34, 34, 64)        18496     \n",
      "_________________________________________________________________\n",
      "max_pooling2d_5 (MaxPooling2 (None, 17, 17, 64)        0         \n",
      "_________________________________________________________________\n",
      "flatten_1 (Flatten)          (None, 18496)             0         \n",
      "_________________________________________________________________\n",
      "dense_2 (Dense)              (None, 128)               2367616   \n",
      "_________________________________________________________________\n",
      "dense_3 (Dense)              (None, 1)                 129       \n",
      "=================================================================\n",
      "Total params: 2,391,329\n",
      "Trainable params: 2,391,329\n",
      "Non-trainable params: 0\n",
      "_________________________________________________________________\n",
      "Found 2805 images belonging to 2 classes.\n",
      "Found 113 images belonging to 2 classes.\n",
      "Epoch 1/3\n",
      "44/44 [==============================] - 42s 946ms/step - loss: 0.3558 - acc: 0.8553 - val_loss: 0.1238 - val_acc: 0.9167\n",
      "Epoch 2/3\n",
      "39/44 [=========================>....] - ETA: 4s - loss: 0.0254 - acc: 0.9899"
     ]
    }
   ],
   "source": [
    "model = MathematicalFunctionsCNN()\n",
    "model.__main__()"
   ]
  },
  {
   "cell_type": "code",
   "execution_count": null,
   "metadata": {},
   "outputs": [],
   "source": [
    "!tensorboard --logdir logs --bind_all"
   ]
  }
 ],
 "metadata": {
  "kernelspec": {
   "display_name": "conda_amazonei_mxnet_p36",
   "language": "python",
   "name": "conda_amazonei_mxnet_p36"
  },
  "language_info": {
   "codemirror_mode": {
    "name": "ipython",
    "version": 3
   },
   "file_extension": ".py",
   "mimetype": "text/x-python",
   "name": "python",
   "nbconvert_exporter": "python",
   "pygments_lexer": "ipython3",
   "version": "3.6.10"
  },
  "toc-autonumbering": true,
  "toc-showmarkdowntxt": false,
  "toc-showtags": true
 },
 "nbformat": 4,
 "nbformat_minor": 4
}
