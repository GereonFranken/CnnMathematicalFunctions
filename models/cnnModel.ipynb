{
 "cells": [
  {
   "cell_type": "markdown",
   "metadata": {},
   "source": [
    "# Imports"
   ]
  },
  {
   "cell_type": "code",
   "execution_count": 1,
   "metadata": {},
   "outputs": [],
   "source": [
    "import matplotlib.pyplot as plt\n",
    "import numpy as np\n",
    "import tensorflow as tf"
   ]
  },
  {
   "cell_type": "markdown",
   "metadata": {},
   "source": [
    "# Trainer class"
   ]
  },
  {
   "cell_type": "code",
   "execution_count": 2,
   "metadata": {},
   "outputs": [],
   "source": [
    "def create_Model():\n",
    "\n",
    "    model = tf.keras.models.Sequential([\n",
    "        # Your Code Here\n",
    "        tf.keras.layers.Conv2D(16, (3,3), activation = 'relu', data_format = 'channels_last', input_shape = (150, 150, 3)),\n",
    "        tf.keras.layers.MaxPooling2D(2, 2),\n",
    "        # The second convolution\n",
    "        tf.keras.layers.Conv2D(32, (3,3), activation = 'relu'),\n",
    "        tf.keras.layers.MaxPooling2D(2,2),\n",
    "        # The third convolution\n",
    "        tf.keras.layers.Conv2D(64, (3,3), activation = 'relu'),\n",
    "        tf.keras.layers.MaxPooling2D(2,2),\n",
    "        # Flatten the results to feed into a DNN\n",
    "        tf.keras.layers.Flatten(),\n",
    "        # 512 neuron hidden layer\n",
    "        tf.keras.layers.Dense(128, activation = 'relu'),\n",
    "        tf.keras.layers.Dense(1, activation = 'sigmoid')\n",
    "    ])\n",
    "    \n",
    "    from tensorflow.keras.optimizers import RMSprop\n",
    "\n",
    "    model.compile(loss = 'binary_crossentropy',\n",
    "                optimizer = RMSprop(lr = 0.001),\n",
    "                metrics = ['acc'])\n",
    "\n",
    "    return model"
   ]
  },
  {
   "cell_type": "code",
   "execution_count": 3,
   "metadata": {},
   "outputs": [],
   "source": [
    "def fit_model(model, train_dir, val_dir):\n",
    "\n",
    "    DESIRED_ACCURACY = 0.99\n",
    "\n",
    "    class myCallback(tf.keras.callbacks.Callback):\n",
    "        def on_epoch_end(self, epoch, logs={}):\n",
    "            if (logs.get('acc')>DESIRED_ACCURACY):\n",
    "              print('\\nReached 99% accuracy so cancelling training!')\n",
    "              self.model.stop_training = True\n",
    "\n",
    "    from tensorflow.keras.preprocessing.image import ImageDataGenerator\n",
    "\n",
    "    datagen = ImageDataGenerator(rescale=1/255) # bring every pixel value between 0 and 1\n",
    "    train_generator = datagen.flow_from_directory(\n",
    "        train_dir,\n",
    "        target_size = (150, 150),  # All images will be resized to 150x150\n",
    "        batch_size = 64,\n",
    "        class_mode = 'binary')\n",
    "    \n",
    "    val_generator = datagen.flow_from_directory(\n",
    "        val_dir,\n",
    "        target_size = (150, 150),  # All images will be resized to 150x150\n",
    "        batch_size = 16,\n",
    "        class_mode = 'binary')\n",
    "\n",
    "    callbacks = myCallback()\n",
    "\n",
    "    history = model.fit(\n",
    "            train_generator,\n",
    "            steps_per_epoch = 8,\n",
    "            validation_data = val_generator,\n",
    "            validation_steps = 4,\n",
    "            epochs = 10,\n",
    "            verbose = 1, \n",
    "            callbacks = [callbacks])\n",
    "    model.reset_metrics()\n",
    "    # model fitting\n",
    "    return model"
   ]
  },
  {
   "cell_type": "code",
   "execution_count": 4,
   "metadata": {},
   "outputs": [],
   "source": [
    "def predict_images(image_paths, model):\n",
    "    from keras.preprocessing import image as kimg\n",
    "    from PIL import Image as pimg\n",
    "    for image_path in image_paths:\n",
    "        plt.figure()\n",
    "        plt.imshow(pimg.open(image_path)) \n",
    "        plt.show() \n",
    "        img = kimg.load_img(image_path, target_size = (150, 150))\n",
    "        img_array = kimg.img_to_array(img)\n",
    "        img_batch = np.expand_dims(img_array, axis = 0)\n",
    "        img_stacked = np.vstack([img_batch])\n",
    "        classes = model.predict(img_stacked)\n",
    "        if (classes[0] < 0.5):\n",
    "            print('This mathematical function is linear')\n",
    "        else:\n",
    "            print('This mathematical function is squared')\n",
    "        "
   ]
  },
  {
   "cell_type": "code",
   "execution_count": null,
   "metadata": {},
   "outputs": [],
   "source": []
  }
 ],
 "metadata": {
  "kernelspec": {
   "display_name": "conda_amazonei_tensorflow_p36",
   "language": "python",
   "name": "conda_amazonei_tensorflow_p36"
  },
  "language_info": {
   "codemirror_mode": {
    "name": "ipython",
    "version": 3
   },
   "file_extension": ".py",
   "mimetype": "text/x-python",
   "name": "python",
   "nbconvert_exporter": "python",
   "pygments_lexer": "ipython3",
   "version": "3.6.6"
  }
 },
 "nbformat": 4,
 "nbformat_minor": 4
}
